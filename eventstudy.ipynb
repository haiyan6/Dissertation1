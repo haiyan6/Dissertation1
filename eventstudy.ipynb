{
 "cells": [
  {
   "cell_type": "code",
   "execution_count": 1,
   "metadata": {},
   "outputs": [],
   "source": [
    "import pandas as pd\n",
    "import numpy as np\n",
    "import scipy as sp\n",
    "from scipy . optimize import leastsq\n",
    "import scipy.stats as stats\n",
    "import matplotlib.pyplot as plt"
   ]
  },
  {
   "cell_type": "code",
   "execution_count": 9,
   "metadata": {},
   "outputs": [],
   "source": [
    "# read sheets\n",
    "# 0-stock return, 1-all issuers, 2-first-issued, 3-subsequent\n",
    "CGB = pd.read_excel('/workspaces/Dissertation1/Haiyan - Chinese Corporate Bond Data.xlsx', sheet_name=[0,1,2,3])\n"
   ]
  },
  {
   "cell_type": "code",
   "execution_count": 3,
   "metadata": {},
   "outputs": [],
   "source": [
    "# event window\n",
    "ewl=-5\n",
    "ewr=5\n",
    "\n",
    "def error(params, x, y):\n",
    "    a, b = params\n",
    "    return y - (a * x + b)\n"
   ]
  },
  {
   "cell_type": "code",
   "execution_count": 4,
   "metadata": {},
   "outputs": [
    {
     "name": "stdout",
     "output_type": "stream",
     "text": [
      "[np.float64(-0.1151399114160907), np.float64(0.33581504832463427), np.float64(4.893133789972779), np.float64(-9.695735764127523), np.float64(0.13618025556263058), np.float64(1.8530552942948397), np.float64(8.782351488651837), np.float64(-1.1754694549059477), np.float64(2.378693475354022), np.float64(-1.302602663295496), np.float64(-8.685503031657143), np.float64(1.1243611875457107), np.float64(-7.889633954607096), np.float64(4.830547595702296), np.float64(25.250004961300156), np.float64(-13.13070612177424), np.float64(7.240207780025268), np.float64(-4.5181405599959055), np.float64(-3.8793200932616654), np.float64(2.1741224450872982), np.float64(0.24851916369605598), np.float64(-3.7791690590237543), np.float64(-1.4981779425626438), np.float64(-6.928141719607033), np.float64(3.2482295263423153), np.float64(-3.5117933148721345), np.float64(-9.94808186711421), np.float64(0.7565662080359608), np.float64(18.810443762018867), np.float64(0.7594427534965292), np.float64(4.104262937704985), np.float64(10.32449392746595), np.float64(-2.3488178259232946), np.float64(1.4389434163746055), np.float64(-15.600521654268398), np.float64(-1.575118012701969), np.float64(-3.847762444915147), np.float64(3.7782987563146038), np.float64(3.682033796737404), np.float64(2.342241265380057), np.float64(-0.3482237659414029), np.float64(0.8616882654863722), np.float64(2.8260524169345875), np.float64(11.730484082118293), np.float64(10.815720051301161), np.float64(7.993716000333809), np.float64(-1.0660266877168756), np.float64(7.993716000333809), np.float64(-3.8049980973168123), np.float64(-2.0493811314006756), np.float64(0.456818059086749), np.float64(-4.354959562845153), np.float64(-1.592467284147145), np.float64(-2.5381363254912794), np.float64(1.1068592380990356), np.float64(6.353333308199694), np.float64(6.353333308199694), np.float64(17.274334458347717), np.float64(17.274334458347717), np.float64(-6.62228168987426), np.float64(-1.4854999416687518), np.float64(5.9128090551597925), np.float64(29.616520288388003), np.float64(8.430862756351882), np.float64(9.921730441815393), np.float64(0.31852617293377833), np.float64(24.486659007882963), np.float64(-11.422040204258543), np.float64(-1.6829950033885064), np.float64(16.974635870886395), np.float64(-0.3503412559743814), np.float64(5.923093288687195), np.float64(-4.916451371265189), np.float64(-0.5122247591392515), np.float64(0.4394287126056291), np.float64(1.1138406676780186), np.float64(3.1555288810316267), np.float64(5.016724018667734), np.float64(27.124506853949555), np.float64(-2.338638169352988), np.float64(2.190514673176252), np.float64(-5.776360311450245), np.float64(-2.6450965416555245), np.float64(-1.9943439281912125), np.float64(0.39423493011258226), np.float64(1.2083150954302377), np.float64(-5.197341341213124), np.float64(-0.8399095372915397), np.float64(-16.355339463982645), np.float64(7.178245922385456), np.float64(3.86763706525997), np.float64(8.75360706046768), np.float64(-3.7545006357440145), np.float64(-0.11843030988992274), np.float64(4.409599145154079), np.float64(-1.1535398220546735), np.float64(8.843640932356921), np.float64(-3.2510260862146376), np.float64(-2.7669289346332877), np.float64(-1.973618635639205), np.float64(10.347930061044224), np.float64(-9.366025395581236), np.float64(9.969042041993436), np.float64(0.7822236496802506), np.float64(-5.6878976441920095), np.float64(-6.1391965382643265), np.float64(-7.455034244737035), np.float64(-3.7405820025471246), np.float64(-0.9677697689529126), np.float64(-3.544028555584779), np.float64(2.529526131354412), np.float64(1.1164871803739769), np.float64(7.094080991864404), np.float64(1.7540065750919762), np.float64(6.581554752823366), np.float64(-0.18962661615554044), np.float64(-3.5191292946709867), np.float64(-6.367989494457236)]\n"
     ]
    }
   ],
   "source": [
    "Total_CAR1 = []\n",
    "for i in range(len(CGB[1]['Code'])):\n",
    "    row_num_x = list(CGB[0]['Code']).index(CGB[1]['Start Date'][i])\n",
    "    x = CGB[0]['CHSASHR'][row_num_x - 220: row_num_x - 19]\n",
    "    y = CGB[0][CGB[1]['Code'][i]][row_num_x - 220: row_num_x - 19]\n",
    "    p0 = [0, 1]\n",
    "    Para = leastsq(error, p0, args=(x, y))\n",
    "    a, b = Para[0]\n",
    "    # print(a,b)\n",
    "\n",
    "\n",
    "    CAR1=0\n",
    "    for j in range(ewr - ewl + 1):\n",
    "        # the abnormal daily return \n",
    "        AR1 = CGB[0][CGB[1]['Code'][i]][row_num_x + ewl + j] - (b + a * CGB[0]['CHSASHR'][row_num_x + ewl + j])\n",
    "        # the cumulative abnormal return\n",
    "        CAR1 += AR1\n",
    "    Total_CAR1.append(CAR1)\n",
    "print(Total_CAR1)\n",
    "\n"
   ]
  },
  {
   "cell_type": "code",
   "execution_count": 5,
   "metadata": {},
   "outputs": [
    {
     "data": {
      "image/png": "[encoded data removed]",
      "text/plain": [
       "<Figure size 1000x500 with 1 Axes>"
      ]
     },
     "metadata": {},
     "output_type": "display_data"
    }
   ],
   "source": [
    "Company_numbers=range(len(CGB[1]['Code']))\n",
    "plt.figure(figsize=(10, 5))\n",
    "plt.bar(Company_numbers, Total_CAR1, color='black')\n",
    "\n",
    "plt.xlabel('Company Numbers')\n",
    "plt.ylabel('CAR')\n",
    "\n",
    "plt.show()\n"
   ]
  },
  {
   "cell_type": "code",
   "execution_count": 6,
   "metadata": {},
   "outputs": [
    {
     "name": "stdout",
     "output_type": "stream",
     "text": [
      "1.505674872524326\n",
      "T-statistic: 2.06994181844691, P-value: 0.04065881848548986\n"
     ]
    }
   ],
   "source": [
    "CAAR1 = np.mean(Total_CAR1)\n",
    "print(CAAR1)\n",
    "# T-test\n",
    "t_statistic, p_value = stats.ttest_1samp(Total_CAR1, 0)\n",
    "\n",
    "print(f\"T-statistic: {t_statistic}, P-value: {p_value}\")"
   ]
  },
  {
   "cell_type": "markdown",
   "metadata": {},
   "source": [
    "<h1>Robustness Tests<h1>"
   ]
  },
  {
   "cell_type": "code",
   "execution_count": 7,
   "metadata": {},
   "outputs": [
    {
     "name": "stdout",
     "output_type": "stream",
     "text": [
      "[np.float64(2.588359575444714), np.float64(1.8917287334532022), np.float64(3.0116804544231774), np.float64(-11.02840090918164), np.float64(2.0384229648956533), np.float64(-0.1313577159905721), np.float64(9.790864561517173), np.float64(-0.3887287851360183), np.float64(0.6150627738362686), np.float64(-0.3829609481997205), np.float64(-0.32439086668811246), np.float64(-0.4332022226421929), np.float64(-1.2546755877524545), np.float64(8.960377117786956), np.float64(20.599231920457427), np.float64(-12.701932364535192), np.float64(7.384318819871524), np.float64(-3.2848107085001668), np.float64(-0.840071242203162), np.float64(-3.5113194710687465), np.float64(0.8254432478014941), np.float64(1.503413232916544), np.float64(-0.3406374200224395), np.float64(-3.7084291747565112), np.float64(-3.0952578198396887), np.float64(-0.1513379072423966), np.float64(-6.3169041167280975), np.float64(2.3784264973932463), np.float64(14.095929385282112), np.float64(0.36827428890675873), np.float64(5.134002610669724), np.float64(10.244934792163905), np.float64(-1.553785636279532), np.float64(-0.5076863906144742), np.float64(-11.054447661768503), np.float64(0.2837230427535724), np.float64(-4.750193256600588), np.float64(3.6600279348890257), np.float64(3.630629106402545), np.float64(1.8100371206077954), np.float64(-2.695733813863127), np.float64(0.30061622065666943), np.float64(1.5157168490758512), np.float64(13.937650090697376), np.float64(11.219189943809898), np.float64(6.368821989946222), np.float64(0.02873624852628187), np.float64(6.368821989946222), np.float64(-3.5520024365254748), np.float64(1.6190535160551676), np.float64(2.7367729618392147), np.float64(-6.375259786481335), np.float64(-0.940040243315076), np.float64(-2.689869045878076), np.float64(-0.3032411057177917), np.float64(-1.3808251360900572), np.float64(-1.3808251360900572), np.float64(18.196782342536203), np.float64(18.196782342536203), np.float64(-5.764070291167972), np.float64(-0.41892670067674626), np.float64(7.3904541932531975), np.float64(23.619748790676496), np.float64(10.075810866600856), np.float64(9.68898660875243), np.float64(-1.1347817273728438), np.float64(22.039412178873675), np.float64(-10.529959784548481), np.float64(2.374018903956042), np.float64(12.429141110012303), np.float64(-1.2412332121751986), np.float64(4.463981990390868), np.float64(-1.8330780522004646), np.float64(-0.8666932251604649), np.float64(0.1414219285555176), np.float64(2.244927403102752), np.float64(3.2950994231531583), np.float64(3.773278489508927), np.float64(23.001479941980385), np.float64(-4.513710555783735), np.float64(2.8825621192254056), np.float64(-7.809053523277282), np.float64(-1.5895670648046338), np.float64(0.5162270872983965), np.float64(-0.38168349511189303), np.float64(0.43405721619844095), np.float64(-10.356843784540727), np.float64(4.480266509134417), np.float64(-14.226953947361041), np.float64(10.751305210285238), np.float64(4.803746925775091), np.float64(6.004715262272869), np.float64(-4.559083861017207), np.float64(-1.127136455076215), np.float64(1.0581486335915469), np.float64(-1.7382857504251144), np.float64(7.948241434839747), np.float64(-1.1510322307907437), np.float64(-3.0886293828431675), np.float64(-2.8738547958535214), np.float64(9.763689036533066), np.float64(-7.929195147054438), np.float64(4.0794442292859365), np.float64(3.4992044524340047), np.float64(-6.679812414267112), np.float64(-5.8039902196046524), np.float64(-5.919267778173546), np.float64(-3.8681254804806335), np.float64(-1.5691157626651986), np.float64(-14.923996408655793), np.float64(4.603595000470891), np.float64(-0.4925235410322134), np.float64(6.931091232441245), np.float64(1.6434374457439889), np.float64(7.09937449347646), np.float64(0.01996929060920216), np.float64(-1.2035668125103633), np.float64(-4.789950420799437)]\n",
      "1.4313408589015986\n",
      "T-statistic: 2.161932885012209, P-value: 0.0326596898513397\n"
     ]
    }
   ],
   "source": [
    "#  change event window\n",
    "ewl=-3\n",
    "ewr=5\n",
    "\n",
    "Total_CAR1 = []\n",
    "for i in range(len(CGB[1]['Code'])):\n",
    "    row_num_x = list(CGB[0]['Code']).index(CGB[1]['Start Date'][i])\n",
    "    x = CGB[0]['CHSASHR'][row_num_x - 220: row_num_x - 19]\n",
    "    y = CGB[0][CGB[1]['Code'][i]][row_num_x - 220: row_num_x - 19]\n",
    "    p0 = [0, 1]\n",
    "    Para = leastsq(error, p0, args=(x, y))\n",
    "    a, b = Para[0]\n",
    "    # print(a,b)\n",
    "\n",
    "\n",
    "    CAR1=0\n",
    "    for j in range(ewr - ewl + 1):\n",
    "        # the abnormal daily return \n",
    "        AR1 = CGB[0][CGB[1]['Code'][i]][row_num_x + ewl + j] - (b + a * CGB[0]['CHSASHR'][row_num_x + ewl + j])\n",
    "        # the cumulative abnormal return\n",
    "        CAR1 += AR1\n",
    "    Total_CAR1.append(CAR1)\n",
    "print(Total_CAR1)\n",
    "\n",
    "CAAR1 = np.mean(Total_CAR1)\n",
    "print(CAAR1)\n",
    "# T-test\n",
    "t_statistic, p_value = stats.ttest_1samp(Total_CAR1, 0)\n",
    "\n",
    "print(f\"T-statistic: {t_statistic}, P-value: {p_value}\")\n"
   ]
  },
  {
   "cell_type": "markdown",
   "metadata": {},
   "source": [
    "<h1>Heterogeneity Tests<h1>"
   ]
  },
  {
   "cell_type": "code",
   "execution_count": 10,
   "metadata": {},
   "outputs": [
    {
     "name": "stdout",
     "output_type": "stream",
     "text": [
      "[np.float64(-0.1151399114160907), np.float64(0.33581504832463427), np.float64(4.893133789972779), np.float64(0.13618025556263058), np.float64(1.8530552942948397), np.float64(8.782351488651837), np.float64(-1.1754694549059477), np.float64(-1.302602663295496), np.float64(-8.685503031657143), np.float64(1.1243611875457107), np.float64(-7.889633954607096), np.float64(25.250004961300156), np.float64(-13.13070612177424), np.float64(7.240207780025268), np.float64(-3.8793200932616654), np.float64(-6.928141719607033), np.float64(3.2482295263423153), np.float64(-9.94808186711421), np.float64(18.810443762018867), np.float64(0.7594427534965292), np.float64(4.104262937704985), np.float64(10.32449392746595), np.float64(-15.600521654268398), np.float64(-3.847762444915147), np.float64(3.682033796737404), np.float64(2.342241265380057), np.float64(-0.3482237659414029), np.float64(2.8260524169345875), np.float64(11.730484082118293), np.float64(10.815720051301161), np.float64(-3.8049980973168123), np.float64(-2.0493811314006756), np.float64(-4.354959562845153), np.float64(-2.5381363254912794), np.float64(1.1068592380990356), np.float64(-6.62228168987426), np.float64(29.616520288388003), np.float64(8.430862756351882), np.float64(9.921730441815393), np.float64(0.31852617293377833), np.float64(24.486659007882963), np.float64(-1.6829950033885064), np.float64(5.923093288687195), np.float64(-5.776360311450245), np.float64(-2.6450965416555245), np.float64(0.39423493011258226), np.float64(1.2083150954302377), np.float64(-0.8399095372915397), np.float64(-16.355339463982645), np.float64(8.75360706046768), np.float64(-0.11843030988992274), np.float64(4.409599145154079), np.float64(-1.1535398220546735), np.float64(8.843640932356921), np.float64(-3.2510260862146376), np.float64(-2.7669289346332877), np.float64(10.347930061044224), np.float64(9.969042041993436), np.float64(-6.1391965382643265), np.float64(-7.455034244737035), np.float64(-3.7405820025471246), np.float64(-0.9677697689529126), np.float64(-3.544028555584779), np.float64(2.529526131354412), np.float64(1.7540065750919762), np.float64(-3.5191292946709867), np.float64(-6.367989494457236)]\n",
      "1.309379822281707\n",
      "T-statistic: 1.2500605006912056, P-value: 0.2156917649670054\n"
     ]
    }
   ],
   "source": [
    "# event window\n",
    "ewl=-5\n",
    "ewr=5\n",
    "\n",
    "Total_CAR2 = []\n",
    "\n",
    "# first issued\n",
    "for i in range(len(CGB[2]['Code'])):\n",
    "    row_num_x = list(CGB[0]['Code']).index(CGB[2]['Start Date'][i])\n",
    "    x = CGB[0]['CHSASHR'][row_num_x - 220: row_num_x - 19]\n",
    "    y = CGB[0][CGB[2]['Code'][i]][row_num_x - 220: row_num_x - 19]\n",
    "    p0 = [0, 1]\n",
    "    Para = leastsq(error, p0, args=(x, y))\n",
    "    a, b = Para[0]\n",
    "    # print(a,b)\n",
    "\n",
    "   \n",
    "    CAR2=0\n",
    "    for j in range(ewr - ewl + 1):\n",
    "        # the abnormal daily return \n",
    "        AR2 = CGB[0][CGB[2]['Code'][i]][row_num_x + ewl + j] - (b + a * CGB[0]['CHSASHR'][row_num_x + ewl + j])\n",
    "        # the cumulative abnormal return\n",
    "        CAR2 += AR2\n",
    "    Total_CAR2.append(CAR2)\n",
    "print(Total_CAR2)\n",
    "\n",
    "CAAR2 = np.mean(Total_CAR2)\n",
    "print(CAAR2)\n",
    "# T-test\n",
    "t_statistic, p_value = stats.ttest_1samp(Total_CAR2, 0)\n",
    "\n",
    "print(f\"T-statistic: {t_statistic}, P-value: {p_value}\")"
   ]
  },
  {
   "cell_type": "code",
   "execution_count": 21,
   "metadata": {},
   "outputs": [
    {
     "name": "stdout",
     "output_type": "stream",
     "text": [
      "[np.float64(-9.695735764127523), np.float64(2.378693475354022), np.float64(4.830547595702296), np.float64(-4.5181405599959055), np.float64(2.1741224450872982), np.float64(0.24851916369605598), np.float64(-3.7791690590237543), np.float64(-1.4981779425626438), np.float64(-3.5117933148721345), np.float64(0.7565662080359608), np.float64(-2.3488178259232946), np.float64(1.4389434163746055), np.float64(-1.575118012701969), np.float64(3.7782987563146038), np.float64(-0.3482237659414029), np.float64(7.993716000333809), np.float64(-1.0660266877168756), np.float64(7.993716000333809), np.float64(0.456818059086749), np.float64(-1.592467284147145), np.float64(6.353333308199694), np.float64(6.353333308199694), np.float64(17.274334458347717), np.float64(17.274334458347717), np.float64(-1.4854999416687518), np.float64(5.9128090551597925), np.float64(-11.422040204258543), np.float64(16.974635870886395), np.float64(-0.3503412559743814), np.float64(-4.916451371265189), np.float64(-0.5122247591392515), np.float64(0.4394287126056291), np.float64(1.1138406676780186), np.float64(3.1555288810316267), np.float64(5.016724018667734), np.float64(27.124506853949555), np.float64(-2.338638169352988), np.float64(2.190514673176252), np.float64(-1.9943439281912125), np.float64(-5.197341341213124), np.float64(7.178245922385456), np.float64(3.86763706525997), np.float64(-3.7545006357440145), np.float64(-1.973618635639205), np.float64(-9.366025395581236), np.float64(0.7822236496802506), np.float64(-5.6878976441920095), np.float64(1.1164871803739769), np.float64(7.094080991864404), np.float64(6.581554752823366), np.float64(-0.18962661615554044)]\n",
      "1.739828918305262\n",
      "T-statistic: 1.77465225950602, P-value: 0.082043434727519\n"
     ]
    }
   ],
   "source": [
    "# event window\n",
    "ewl=-5\n",
    "ewr=5\n",
    "\n",
    "Total_CAR3 = []\n",
    "\n",
    "# subsequent\n",
    "for i in range(len(CGB[3]['Code'])):\n",
    "    row_num_x = list(CGB[0]['Code']).index(CGB[3]['Start Date'][i])\n",
    "    x = CGB[0]['CHSASHR'][row_num_x - 220: row_num_x - 19]\n",
    "    y = CGB[0][CGB[3]['Code'][i]][row_num_x - 220: row_num_x - 19]\n",
    "    p0 = [0, 1]\n",
    "    Para = leastsq(error, p0, args=(x, y))\n",
    "    a, b = Para[0]\n",
    "    # print(a,b)\n",
    "\n",
    "   \n",
    "    CAR3=0\n",
    "    for j in range(ewr - ewl + 1):\n",
    "        # the abnormal daily return \n",
    "        AR3 = CGB[0][CGB[3]['Code'][i]][row_num_x + ewl + j] - (b + a * CGB[0]['CHSASHR'][row_num_x + ewl + j])\n",
    "        # the cumulative abnormal return\n",
    "        CAR3 += AR3\n",
    "    Total_CAR3.append(CAR3)\n",
    "print(Total_CAR3)\n",
    "\n",
    "# # draw\n",
    "# Company_numbers=range(len(CGB[3]['Code']))\n",
    "# plt.figure(figsize=(10, 5))\n",
    "# plt.bar(Company_numbers, Total_CAR3, color='black')\n",
    "\n",
    "# plt.xlabel('Company Numbers')\n",
    "# plt.ylabel('CAR')\n",
    "\n",
    "# plt.show()\n",
    "\n",
    "\n",
    "\n",
    "CAAR3 = np.mean(Total_CAR3)\n",
    "print(CAAR3)\n",
    "# T-test\n",
    "t_statistic, p_value = stats.ttest_1samp(Total_CAR3, 0)\n",
    "\n",
    "print(f\"T-statistic: {t_statistic}, P-value: {p_value}\")"
   ]
  }
 ],
 "metadata": {
  "kernelspec": {
   "display_name": "Python 3",
   "language": "python",
   "name": "python3"
  },
  "language_info": {
   "codemirror_mode": {
    "name": "ipython",
    "version": 3
   },
   "file_extension": ".py",
   "mimetype": "text/x-python",
   "name": "python",
   "nbconvert_exporter": "python",
   "pygments_lexer": "ipython3",
   "version": "3.10.13"
  }
 },
 "nbformat": 4,
 "nbformat_minor": 2
}
